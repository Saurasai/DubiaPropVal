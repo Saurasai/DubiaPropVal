{
 "cells": [
  {
   "cell_type": "code",
   "execution_count": 2,
   "id": "75287a41",
   "metadata": {},
   "outputs": [
    {
     "name": "stdout",
     "output_type": "stream",
     "text": [
      "Predicted Price: 131761.4577147047\n",
      "Actual Price: 2500000\n",
      "Valuation: Overpriced\n"
     ]
    }
   ],
   "source": [
    "import joblib\n",
    "import pandas as pd\n",
    "\n",
    "# Load model\n",
    "model_bundle = joblib.load('../models/price_predictor.pkl')\n",
    "model = model_bundle['model']\n",
    "preprocessor = model_bundle['preprocessor']\n",
    "\n",
    "# Test property\n",
    "property_input = pd.DataFrame([{\n",
    "    'size': 1200,\n",
    "    'bedrooms': 2,\n",
    "    'bathrooms': 2,\n",
    "    'neighbourhood': 'Downtown',\n",
    "    'building': 'Burj Khalifa'\n",
    "}])\n",
    "\n",
    "actual_price = 2500000\n",
    "\n",
    "# Predict\n",
    "X = preprocessor.transform(property_input)\n",
    "predicted_price = model.predict(X)[0]\n",
    "\n",
    "# Classify\n",
    "def classify_price(predicted, actual, threshold=0.1):\n",
    "    if actual > predicted * (1 + threshold):\n",
    "        return 'Overpriced'\n",
    "    elif actual < predicted * (1 - threshold):\n",
    "        return 'Underpriced'\n",
    "    else:\n",
    "        return 'Fairly Priced'\n",
    "\n",
    "valuation = classify_price(predicted_price, actual_price)\n",
    "\n",
    "print(f\"Predicted Price: {predicted_price}\")\n",
    "print(f\"Actual Price: {actual_price}\")\n",
    "print(f\"Valuation: {valuation}\")\n"
   ]
  }
 ],
 "metadata": {
  "kernelspec": {
   "display_name": "Python 3",
   "language": "python",
   "name": "python3"
  },
  "language_info": {
   "codemirror_mode": {
    "name": "ipython",
    "version": 3
   },
   "file_extension": ".py",
   "mimetype": "text/x-python",
   "name": "python",
   "nbconvert_exporter": "python",
   "pygments_lexer": "ipython3",
   "version": "3.12.7"
  }
 },
 "nbformat": 4,
 "nbformat_minor": 5
}
